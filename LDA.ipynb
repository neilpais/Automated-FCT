{
 "cells": [
  {
   "cell_type": "code",
   "execution_count": 3,
   "id": "24abed0c",
   "metadata": {},
   "outputs": [],
   "source": [
    "import pandas as pd\n",
    "import numpy as np\n",
    "from sklearn.feature_extraction.text import CountVectorizer\n",
    "from sklearn.feature_extraction.text import TfidfVectorizer\n",
    "from sklearn.decomposition import LatentDirichletAllocation, PCA, NMF\n",
    "from sklearn.metrics.pairwise import cosine_similarity\n",
    "import matplotlib.pyplot as plt\n",
    "from sklearn.manifold import TSNE"
   ]
  },
  {
   "cell_type": "code",
   "execution_count": 6,
   "id": "6f2b28c0",
   "metadata": {},
   "outputs": [
    {
     "name": "stdout",
     "output_type": "stream",
     "text": [
      "0       This class is hard, but its a two-in-one gen-e...\n",
      "1       Definitely going to choose Prof. Looney\\'s cla...\n",
      "2       I overall enjoyed this class because the assig...\n",
      "3       Yes, it\\'s possible to get an A but you\\'ll de...\n",
      "4       Professor Looney has great knowledge in Astron...\n",
      "                              ...                        \n",
      "9995    Very Rude. Treats you like a child because she...\n",
      "9996    This class about killed me. Seriously, this wa...\n",
      "9997    This is a hard class. I don\\'t know that I cou...\n",
      "9998    You are grad students your not in kindergarten...\n",
      "9999    This class is the biggest waste of my time pos...\n",
      "Name: comments, Length: 10000, dtype: object\n"
     ]
    },
    {
     "data": {
      "text/plain": [
       "pandas.core.series.Series"
      ]
     },
     "execution_count": 6,
     "metadata": {},
     "output_type": "execute_result"
    }
   ],
   "source": [
    "complete_dataset = pd.read_csv('complete_dataset.csv')\n",
    "comments = complete_dataset['comments']\n",
    "comments = comments.head(10000) #first 3000 comments\n",
    "print(comments)\n",
    "type(comments)"
   ]
  },
  {
   "cell_type": "code",
   "execution_count": 5,
   "id": "da379927",
   "metadata": {},
   "outputs": [
    {
     "data": {
      "text/plain": [
       "list"
      ]
     },
     "execution_count": 5,
     "metadata": {},
     "output_type": "execute_result"
    }
   ],
   "source": [
    "comments_list = comments.tolist()\n",
    "comments_list = [doc if isinstance(doc, str) else '' for doc in comments_list]\n",
    "type(comments_list)\n",
    "#print(comments_list)"
   ]
  },
  {
   "cell_type": "code",
   "execution_count": 4,
   "id": "49ece3ea",
   "metadata": {},
   "outputs": [
    {
     "name": "stdout",
     "output_type": "stream",
     "text": [
      "(10000, 500)\n"
     ]
    }
   ],
   "source": [
    "vectorizer = CountVectorizer(max_features=500, stop_words='english') #max_df=0.5, min_df=5\n",
    "bow_model = vectorizer.fit_transform(comments_list)\n",
    "#print(bow_model)\n",
    "#type(bow_model)\n",
    "#print(bow_model.shape)\n",
    "arr = bow_model.toarray()\n",
    "print(arr.shape)"
   ]
  },
  {
   "cell_type": "code",
   "execution_count": 5,
   "id": "794e5cd9",
   "metadata": {},
   "outputs": [
    {
     "name": "stdout",
     "output_type": "stream",
     "text": [
      "      hard  twoinone  gened  knockout  content  stimulating  unlike  actually  \\\n",
      "0        1         1      1         1        1            1       1         1   \n",
      "1        0         0      0         0        0            0       0         0   \n",
      "2        0         0      0         0        0            0       0         0   \n",
      "3        0         0      0         0        1            0       0         0   \n",
      "4        0         0      0         0        0            0       0         0   \n",
      "...    ...       ...    ...       ...      ...          ...     ...       ...   \n",
      "9995     1         0      0         0        0            0       0         0   \n",
      "9996     0         0      0         0        0            0       0         0   \n",
      "9997     1         0      0         0        0            0       0         0   \n",
      "9998     0         0      0         0        0            0       0         0   \n",
      "9999     0         0      0         0        0            0       0         0   \n",
      "\n",
      "      participate  pas  ...  quixote  instrucotr  softie  promoted  \\\n",
      "0               1    1  ...        0           0       0         0   \n",
      "1               0    0  ...        0           0       0         0   \n",
      "2               0    0  ...        0           0       0         0   \n",
      "3               0    0  ...        0           0       0         0   \n",
      "4               0    0  ...        0           0       0         0   \n",
      "...           ...  ...  ...      ...         ...     ...       ...   \n",
      "9995            0    0  ...        0           0       0         0   \n",
      "9996            0    0  ...        0           0       0         0   \n",
      "9997            0    0  ...        0           0       0         0   \n",
      "9998            0    0  ...        0           0       0         0   \n",
      "9999            0    0  ...        0           0       0         0   \n",
      "\n",
      "      bordenlineestoteric  luis  lemos  trickster  borrowed  rewatch  \n",
      "0                       0     0      0          0         0        0  \n",
      "1                       0     0      0          0         0        0  \n",
      "2                       0     0      0          0         0        0  \n",
      "3                       0     0      0          0         0        0  \n",
      "4                       0     0      0          0         0        0  \n",
      "...                   ...   ...    ...        ...       ...      ...  \n",
      "9995                    0     0      0          0         0        0  \n",
      "9996                    0     0      0          0         0        0  \n",
      "9997                    0     0      0          0         0        0  \n",
      "9998                    0     0      0          0         0        0  \n",
      "9999                    0     0      0          0         0        0  \n",
      "\n",
      "[10000 rows x 11029 columns]\n",
      "Index(['hard', 'twoinone', 'gened', 'knockout', 'content', 'stimulating',\n",
      "       'unlike', 'actually', 'participate', 'pas',\n",
      "       ...\n",
      "       'quixote', 'instrucotr', 'softie', 'promoted', 'bordenlineestoteric',\n",
      "       'luis', 'lemos', 'trickster', 'borrowed', 'rewatch'],\n",
      "      dtype='object', length=11029)\n"
     ]
    }
   ],
   "source": [
    "data = pd.read_csv('bagOfWords.csv_1000')\n",
    "print(data)\n",
    "X = data.values\n",
    "print(data.columns)\n"
   ]
  },
  {
   "cell_type": "code",
   "execution_count": 6,
   "id": "b0c0947f",
   "metadata": {},
   "outputs": [
    {
     "data": {
      "text/html": [
       "<style>#sk-container-id-1 {color: black;}#sk-container-id-1 pre{padding: 0;}#sk-container-id-1 div.sk-toggleable {background-color: white;}#sk-container-id-1 label.sk-toggleable__label {cursor: pointer;display: block;width: 100%;margin-bottom: 0;padding: 0.3em;box-sizing: border-box;text-align: center;}#sk-container-id-1 label.sk-toggleable__label-arrow:before {content: \"▸\";float: left;margin-right: 0.25em;color: #696969;}#sk-container-id-1 label.sk-toggleable__label-arrow:hover:before {color: black;}#sk-container-id-1 div.sk-estimator:hover label.sk-toggleable__label-arrow:before {color: black;}#sk-container-id-1 div.sk-toggleable__content {max-height: 0;max-width: 0;overflow: hidden;text-align: left;background-color: #f0f8ff;}#sk-container-id-1 div.sk-toggleable__content pre {margin: 0.2em;color: black;border-radius: 0.25em;background-color: #f0f8ff;}#sk-container-id-1 input.sk-toggleable__control:checked~div.sk-toggleable__content {max-height: 200px;max-width: 100%;overflow: auto;}#sk-container-id-1 input.sk-toggleable__control:checked~label.sk-toggleable__label-arrow:before {content: \"▾\";}#sk-container-id-1 div.sk-estimator input.sk-toggleable__control:checked~label.sk-toggleable__label {background-color: #d4ebff;}#sk-container-id-1 div.sk-label input.sk-toggleable__control:checked~label.sk-toggleable__label {background-color: #d4ebff;}#sk-container-id-1 input.sk-hidden--visually {border: 0;clip: rect(1px 1px 1px 1px);clip: rect(1px, 1px, 1px, 1px);height: 1px;margin: -1px;overflow: hidden;padding: 0;position: absolute;width: 1px;}#sk-container-id-1 div.sk-estimator {font-family: monospace;background-color: #f0f8ff;border: 1px dotted black;border-radius: 0.25em;box-sizing: border-box;margin-bottom: 0.5em;}#sk-container-id-1 div.sk-estimator:hover {background-color: #d4ebff;}#sk-container-id-1 div.sk-parallel-item::after {content: \"\";width: 100%;border-bottom: 1px solid gray;flex-grow: 1;}#sk-container-id-1 div.sk-label:hover label.sk-toggleable__label {background-color: #d4ebff;}#sk-container-id-1 div.sk-serial::before {content: \"\";position: absolute;border-left: 1px solid gray;box-sizing: border-box;top: 0;bottom: 0;left: 50%;z-index: 0;}#sk-container-id-1 div.sk-serial {display: flex;flex-direction: column;align-items: center;background-color: white;padding-right: 0.2em;padding-left: 0.2em;position: relative;}#sk-container-id-1 div.sk-item {position: relative;z-index: 1;}#sk-container-id-1 div.sk-parallel {display: flex;align-items: stretch;justify-content: center;background-color: white;position: relative;}#sk-container-id-1 div.sk-item::before, #sk-container-id-1 div.sk-parallel-item::before {content: \"\";position: absolute;border-left: 1px solid gray;box-sizing: border-box;top: 0;bottom: 0;left: 50%;z-index: -1;}#sk-container-id-1 div.sk-parallel-item {display: flex;flex-direction: column;z-index: 1;position: relative;background-color: white;}#sk-container-id-1 div.sk-parallel-item:first-child::after {align-self: flex-end;width: 50%;}#sk-container-id-1 div.sk-parallel-item:last-child::after {align-self: flex-start;width: 50%;}#sk-container-id-1 div.sk-parallel-item:only-child::after {width: 0;}#sk-container-id-1 div.sk-dashed-wrapped {border: 1px dashed gray;margin: 0 0.4em 0.5em 0.4em;box-sizing: border-box;padding-bottom: 0.4em;background-color: white;}#sk-container-id-1 div.sk-label label {font-family: monospace;font-weight: bold;display: inline-block;line-height: 1.2em;}#sk-container-id-1 div.sk-label-container {text-align: center;}#sk-container-id-1 div.sk-container {/* jupyter's `normalize.less` sets `[hidden] { display: none; }` but bootstrap.min.css set `[hidden] { display: none !important; }` so we also need the `!important` here to be able to override the default hidden behavior on the sphinx rendered scikit-learn.org. See: https://github.com/scikit-learn/scikit-learn/issues/21755 */display: inline-block !important;position: relative;}#sk-container-id-1 div.sk-text-repr-fallback {display: none;}</style><div id=\"sk-container-id-1\" class=\"sk-top-container\"><div class=\"sk-text-repr-fallback\"><pre>LatentDirichletAllocation(n_components=5, random_state=42)</pre><b>In a Jupyter environment, please rerun this cell to show the HTML representation or trust the notebook. <br />On GitHub, the HTML representation is unable to render, please try loading this page with nbviewer.org.</b></div><div class=\"sk-container\" hidden><div class=\"sk-item\"><div class=\"sk-estimator sk-toggleable\"><input class=\"sk-toggleable__control sk-hidden--visually\" id=\"sk-estimator-id-1\" type=\"checkbox\" checked><label for=\"sk-estimator-id-1\" class=\"sk-toggleable__label sk-toggleable__label-arrow\">LatentDirichletAllocation</label><div class=\"sk-toggleable__content\"><pre>LatentDirichletAllocation(n_components=5, random_state=42)</pre></div></div></div></div></div>"
      ],
      "text/plain": [
       "LatentDirichletAllocation(n_components=5, random_state=42)"
      ]
     },
     "execution_count": 6,
     "metadata": {},
     "output_type": "execute_result"
    }
   ],
   "source": [
    "LDA = LatentDirichletAllocation(n_components = 5, random_state = 42)\n",
    "\n",
    "model = NMF(n_components=10, init='random', random_state=42)\n",
    "W = model.fit(bow_model)\n",
    "H = model.components_\n",
    "\n",
    "LDA.fit(X) # LDA.fit(bow_model)"
   ]
  },
  {
   "cell_type": "code",
   "execution_count": 7,
   "id": "52262434",
   "metadata": {},
   "outputs": [],
   "source": [
    "document_topic_matrix = LDA.fit_transform(X)"
   ]
  },
  {
   "cell_type": "code",
   "execution_count": 8,
   "id": "5a002261",
   "metadata": {},
   "outputs": [],
   "source": [
    "feature_names = data.columns"
   ]
  },
  {
   "cell_type": "code",
   "execution_count": 9,
   "id": "a53a86ce",
   "metadata": {},
   "outputs": [
    {
     "name": "stdout",
     "output_type": "stream",
     "text": [
      "Index(['hard', 'twoinone', 'gened', 'knockout', 'content', 'stimulating',\n",
      "       'unlike', 'actually', 'participate', 'pas',\n",
      "       ...\n",
      "       'quixote', 'instrucotr', 'softie', 'promoted', 'bordenlineestoteric',\n",
      "       'luis', 'lemos', 'trickster', 'borrowed', 'rewatch'],\n",
      "      dtype='object', length=11029)\n"
     ]
    }
   ],
   "source": [
    "print(feature_names)"
   ]
  },
  {
   "cell_type": "code",
   "execution_count": 10,
   "id": "a425ef59",
   "metadata": {},
   "outputs": [],
   "source": [
    "top_words_per_topic = []\n",
    "for topic in LDA.components_:\n",
    "    top_words = [feature_names[i] for i in topic.argsort()[-10:]]\n",
    "    top_words_per_topic.append(top_words)"
   ]
  },
  {
   "cell_type": "code",
   "execution_count": 11,
   "id": "183d8a22",
   "metadata": {},
   "outputs": [
    {
     "name": "stdout",
     "output_type": "stream",
     "text": [
      "Topic 1['highly', 'always', 'make', 'really', 'help', 'helpful', 'would', 'recommend', 'great', 'take']\n",
      "Topic 2['question', 'give', 'would', 'good', 'get', 'easy', 'grade', 'take', 'test', 'no']\n",
      "Topic 3['final', 'easy', 'take', 'reading', 'paper', 'read', 'test', 'time', 'book', 'lecture']\n",
      "Topic 4['get', 'want', 'like', 'ever', 'time', 'work', 'really', 'best', 'lot', 'take']\n",
      "Topic 5['lot', 'test', 'hard', 'take', 'lecture', 'interesting', 'easy', 'great', 'make', 'good']\n"
     ]
    }
   ],
   "source": [
    "for i, list1 in enumerate(top_words_per_topic):\n",
    "    print('Topic', i+1, end = \"\")\n",
    "    print(list1)"
   ]
  },
  {
   "cell_type": "code",
   "execution_count": 12,
   "id": "c64228c1",
   "metadata": {},
   "outputs": [],
   "source": [
    "topics_dict = {}\n",
    "for doc_idx in range(len(document_topic_matrix)):\n",
    "    topic_probs = document_topic_matrix[doc_idx]\n",
    "    topic_idx = np.argmax(topic_probs)\n",
    "\n",
    "    if topic_idx not in topics_dict:\n",
    "        topics_dict[topic_idx] = []\n",
    "        \n",
    "    topics_dict[topic_idx].append(doc_idx)"
   ]
  },
  {
   "cell_type": "code",
   "execution_count": 13,
   "id": "1f04d895",
   "metadata": {},
   "outputs": [],
   "source": [
    "final_data = []\n",
    "for key, values in topics_dict.items():\n",
    "    for value in values:\n",
    "        final_data.append((value, key))\n",
    "        \n",
    "lda_labels = pd.DataFrame(final_data, columns=['Comment', 'LDA-Label'])\n",
    "lda_labels.sort_values(by='Comment', inplace=True)\n",
    "lda_labels.reset_index(drop=True, inplace=True)"
   ]
  },
  {
   "cell_type": "code",
   "execution_count": 14,
   "id": "305157f8",
   "metadata": {},
   "outputs": [
    {
     "data": {
      "text/html": [
       "<div>\n",
       "<style scoped>\n",
       "    .dataframe tbody tr th:only-of-type {\n",
       "        vertical-align: middle;\n",
       "    }\n",
       "\n",
       "    .dataframe tbody tr th {\n",
       "        vertical-align: top;\n",
       "    }\n",
       "\n",
       "    .dataframe thead th {\n",
       "        text-align: right;\n",
       "    }\n",
       "</style>\n",
       "<table border=\"1\" class=\"dataframe\">\n",
       "  <thead>\n",
       "    <tr style=\"text-align: right;\">\n",
       "      <th></th>\n",
       "      <th>Comment</th>\n",
       "      <th>LDA-Label</th>\n",
       "    </tr>\n",
       "  </thead>\n",
       "  <tbody>\n",
       "    <tr>\n",
       "      <th>0</th>\n",
       "      <td>0</td>\n",
       "      <td>4</td>\n",
       "    </tr>\n",
       "    <tr>\n",
       "      <th>1</th>\n",
       "      <td>1</td>\n",
       "      <td>1</td>\n",
       "    </tr>\n",
       "    <tr>\n",
       "      <th>2</th>\n",
       "      <td>2</td>\n",
       "      <td>2</td>\n",
       "    </tr>\n",
       "    <tr>\n",
       "      <th>3</th>\n",
       "      <td>3</td>\n",
       "      <td>1</td>\n",
       "    </tr>\n",
       "    <tr>\n",
       "      <th>4</th>\n",
       "      <td>4</td>\n",
       "      <td>4</td>\n",
       "    </tr>\n",
       "    <tr>\n",
       "      <th>...</th>\n",
       "      <td>...</td>\n",
       "      <td>...</td>\n",
       "    </tr>\n",
       "    <tr>\n",
       "      <th>9995</th>\n",
       "      <td>9995</td>\n",
       "      <td>0</td>\n",
       "    </tr>\n",
       "    <tr>\n",
       "      <th>9996</th>\n",
       "      <td>9996</td>\n",
       "      <td>1</td>\n",
       "    </tr>\n",
       "    <tr>\n",
       "      <th>9997</th>\n",
       "      <td>9997</td>\n",
       "      <td>0</td>\n",
       "    </tr>\n",
       "    <tr>\n",
       "      <th>9998</th>\n",
       "      <td>9998</td>\n",
       "      <td>1</td>\n",
       "    </tr>\n",
       "    <tr>\n",
       "      <th>9999</th>\n",
       "      <td>9999</td>\n",
       "      <td>1</td>\n",
       "    </tr>\n",
       "  </tbody>\n",
       "</table>\n",
       "<p>10000 rows × 2 columns</p>\n",
       "</div>"
      ],
      "text/plain": [
       "      Comment  LDA-Label\n",
       "0           0          4\n",
       "1           1          1\n",
       "2           2          2\n",
       "3           3          1\n",
       "4           4          4\n",
       "...       ...        ...\n",
       "9995     9995          0\n",
       "9996     9996          1\n",
       "9997     9997          0\n",
       "9998     9998          1\n",
       "9999     9999          1\n",
       "\n",
       "[10000 rows x 2 columns]"
      ]
     },
     "execution_count": 14,
     "metadata": {},
     "output_type": "execute_result"
    }
   ],
   "source": [
    "lda_labels"
   ]
  },
  {
   "cell_type": "code",
   "execution_count": 15,
   "id": "53d24831",
   "metadata": {},
   "outputs": [],
   "source": [
    "lda_labels.to_csv('lda_labels.csv', index = False)"
   ]
  },
  {
   "cell_type": "code",
   "execution_count": 16,
   "id": "18c766b7",
   "metadata": {},
   "outputs": [],
   "source": [
    "# label_topics = ['Positivity and Excellence', 'Education and Assessment', 'Work and Enjoyment', 'Course and Effectiveness', 'Testing and Performance']\n",
    "label_topics = [\"Student Experience\", \"Learning Challenges\", \"Course Engagement\", \"Course Evaluation\", \"Assessments and Grades\"]"
   ]
  },
  {
   "cell_type": "code",
   "execution_count": 17,
   "id": "8b4d4e9c",
   "metadata": {},
   "outputs": [],
   "source": [
    "topic_to_label = {\n",
    "    0: 'Student Experience',\n",
    "    1: 'Learning Challenges',\n",
    "    2: 'Course Engagement',\n",
    "    3: 'Course Evaluation',\n",
    "    4: 'Assessments and Grades'\n",
    "}"
   ]
  },
  {
   "cell_type": "code",
   "execution_count": 19,
   "id": "23130b87",
   "metadata": {},
   "outputs": [],
   "source": [
    "# Define a new document as a list of lists of words representing multiple topics\n",
    "new_document = [\n",
    "    ['highly', 'always', 'make', 'really', 'help', 'helpful', 'would', 'recommend', 'great', 'take'],\n",
    "    ['question', 'give', 'would', 'good', 'get', 'easy', 'grade', 'take', 'test', 'no'],\n",
    "    ['final', 'easy', 'take', 'reading', 'paper', 'read', 'test', 'time', 'book', 'lecture'], \n",
    "    ['get', 'want', 'like', 'ever', 'time', 'work', 'really', 'best', 'lot', 'take'], \n",
    "    ['lot', 'test', 'hard', 'take', 'lecture', 'interesting', 'easy', 'great', 'make', 'good'],\n",
    "    \n",
    "]\n"
   ]
  },
  {
   "cell_type": "code",
   "execution_count": 20,
   "id": "39d7f2c3",
   "metadata": {},
   "outputs": [
    {
     "name": "stdout",
     "output_type": "stream",
     "text": [
      "Inner List 1: Most relevant topic: 0, Assigned label: Student Experience\n",
      "Inner List 2: Most relevant topic: 1, Assigned label: Learning Challenges\n",
      "Inner List 3: Most relevant topic: 2, Assigned label: Course Engagement\n",
      "Inner List 4: Most relevant topic: 3, Assigned label: Course Evaluation\n",
      "Inner List 5: Most relevant topic: 4, Assigned label: Assessments and Grades\n"
     ]
    }
   ],
   "source": [
    "# Preprocess the new document text (replace with your preprocessing steps)\n",
    "new_document_text = [' '.join(topic_words) for topic_words in new_document]\n",
    "\n",
    "# Load your previously trained CountVectorizer (replace with your vectorizer)\n",
    "vectorizer = CountVectorizer(vocabulary=feature_names)  # Use your actual vocabulary\n",
    "\n",
    "# Transform the new document text to a document-term matrix using the vectorizer\n",
    "new_document_matrix = vectorizer.transform(new_document_text)\n",
    "\n",
    "# Infer the topic distribution for the new document using the LDA model\n",
    "new_document_topics = LDA.transform(new_document_matrix)\n",
    "\n",
    "# Find the most relevant topic for each inner list\n",
    "most_relevant_topics = np.argmax(new_document_topics, axis=1)\n",
    "\n",
    "# Print the most relevant topics and corresponding labels for each inner list\n",
    "for idx, topic_id in enumerate(most_relevant_topics):\n",
    "    assigned_label = topic_to_label[topic_id]\n",
    "    print(f\"Inner List {idx + 1}: Most relevant topic: {topic_id}, Assigned label: {assigned_label}\")"
   ]
  },
  {
   "cell_type": "code",
   "execution_count": 21,
   "id": "458332ab",
   "metadata": {},
   "outputs": [
    {
     "data": {
      "image/png": "[encoded data removed]",
      "text/plain": [
       "<Figure size 432x288 with 1 Axes>"
      ]
     },
     "metadata": {},
     "output_type": "display_data"
    }
   ],
   "source": [
    "label_counts = lda_labels['LDA-Label'].value_counts().sort_index()\n",
    "# labels = ['Label 0', 'Label 1', 'Label 2', 'Label 3', 'Label 4']\n",
    "labels = [\"Student Experience\", \"Learning Challenges\", \"Course Engagement\", \"Course Evaluation\", \"Assessments and Grades\"]\n",
    "# colors = ['#2ECC71', '#F1C40F', '#95A5A6', '#9B59B6', '#FF5733']\n",
    "colors = ['#1F77B4', '#FF7F0E', '#2CA02C', '#D62728', '#9467BD']\n",
    "# labels_with_counts = [f'{label_name} ({count})' for label_name, (labels, count) in zip(labels, label_counts.items())]\n",
    "labels_with_counts = [f'{label_name}' for label_name, (labels, count) in zip(labels, label_counts.items())]\n",
    "    \n",
    "# plt.figure(figsize=(8, 8))  # Set the figure size\n",
    "\n",
    "plt.pie(label_counts, labels=labels_with_counts, colors=colors, autopct='%1.1f%%', startangle=140)\n",
    "plt.axis('equal')  # Equal aspect ratio ensures that the pie is drawn as a circle.\n",
    "plt.title('Student Feedback')\n",
    "plt.savefig(\"pie_chart.png\")\n",
    "plt.show()\n"
   ]
  },
  {
   "cell_type": "code",
   "execution_count": null,
   "id": "e29be309",
   "metadata": {},
   "outputs": [],
   "source": []
  }
 ],
 "metadata": {
  "kernelspec": {
   "display_name": "Python 3",
   "language": "python",
   "name": "python3"
  },
  "language_info": {
   "codemirror_mode": {
    "name": "ipython",
    "version": 3
   },
   "file_extension": ".py",
   "mimetype": "text/x-python",
   "name": "python",
   "nbconvert_exporter": "python",
   "pygments_lexer": "ipython3",
   "version": "3.8.8"
  }
 },
 "nbformat": 4,
 "nbformat_minor": 5
}
