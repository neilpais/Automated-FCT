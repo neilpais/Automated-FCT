{
 "cells": [
  {
   "cell_type": "code",
   "execution_count": 1,
   "id": "6734d783-d922-49d2-9d55-666b29e438f9",
   "metadata": {},
   "outputs": [],
   "source": [
    "import pandas as pd\n",
    "import numpy as np\n",
    "from sklearn.feature_extraction.text import CountVectorizer\n",
    "from sklearn.feature_extraction.text import TfidfVectorizer\n",
    "from sklearn.decomposition import LatentDirichletAllocation, PCA, NMF\n",
    "from sklearn.metrics.pairwise import cosine_similarity\n",
    "import matplotlib.pyplot as plt\n",
    "from sklearn.manifold import TSNE\n",
    "from sklearn.linear_model import LogisticRegression\n"
   ]
  },
  {
   "cell_type": "code",
   "execution_count": 2,
   "id": "34c89651-dc41-49e4-9646-8dc532b89d35",
   "metadata": {},
   "outputs": [],
   "source": [
    "#complete_dataset = pd.read_csv('final_comments.csv')\n",
    "#comments = complete_dataset['comments'] #first 3000 comments\n",
    "#comments_list = comments.tolist()\n",
    "#comments_list = [doc if isinstance(doc, str) else '' for doc in comments_list]\n",
    "#print(comments.shape)"
   ]
  },
  {
   "cell_type": "code",
   "execution_count": 34,
   "id": "14f55306-0be8-42c4-9e74-6568197276f8",
   "metadata": {
    "scrolled": false
   },
   "outputs": [
    {
     "name": "stdout",
     "output_type": "stream",
     "text": [
      "0       This class is hard, but its a two-in-one gen-e...\n",
      "1       Definitely going to choose Prof. Looney\\'s cla...\n",
      "2       I overall enjoyed this class because the assig...\n",
      "3       Yes, it\\'s possible to get an A but you\\'ll de...\n",
      "4       Professor Looney has great knowledge in Astron...\n",
      "                              ...                        \n",
      "9995    Very Rude. Treats you like a child because she...\n",
      "9996    This class about killed me. Seriously, this wa...\n",
      "9997    This is a hard class. I don\\'t know that I cou...\n",
      "9998    You are grad students your not in kindergarten...\n",
      "9999    This class is the biggest waste of my time pos...\n",
      "Name: comments, Length: 10000, dtype: object\n"
     ]
    }
   ],
   "source": [
    "complete_dataset = pd.read_csv('complete_dataset.csv')\n",
    "comments = complete_dataset['comments']\n",
    "comments = comments.head(10000) #first 3000 comments\n",
    "print(comments)"
   ]
  },
  {
   "cell_type": "code",
   "execution_count": 35,
   "id": "439d1586-c6b6-44ea-8d25-92215db2da23",
   "metadata": {
    "scrolled": false
   },
   "outputs": [
    {
     "data": {
      "text/plain": [
       "list"
      ]
     },
     "execution_count": 35,
     "metadata": {},
     "output_type": "execute_result"
    }
   ],
   "source": [
    "comments_list = comments.tolist()\n",
    "comments_list = [doc if isinstance(doc, str) else '' for doc in comments_list]\n",
    "type(comments_list)\n",
    "#print(comments_list)"
   ]
  },
  {
   "cell_type": "code",
   "execution_count": 36,
   "id": "1449999e-0c9b-41f8-a518-4050f340b2ba",
   "metadata": {},
   "outputs": [
    {
     "name": "stdout",
     "output_type": "stream",
     "text": [
      "(10000, 500)\n"
     ]
    }
   ],
   "source": [
    "vectorizer = CountVectorizer(max_features=500, stop_words='english') #max_df=0.5, min_df=5\n",
    "bow_model = vectorizer.fit_transform(comments_list)\n",
    "#print(bow_model)\n",
    "#type(bow_model)\n",
    "#print(bow_model.shape)\n",
    "arr = bow_model.toarray()\n",
    "print(arr.shape)"
   ]
  },
  {
   "cell_type": "code",
   "execution_count": 42,
   "id": "b08e9cb1-ce4a-4b17-ab45-ee3e7f4ab7eb",
   "metadata": {},
   "outputs": [
    {
     "name": "stdout",
     "output_type": "stream",
     "text": [
      "      hard  twoinone  gened  knockout  content  stimulating  unlike  actually  \\\n",
      "0        1         1      1         1        1            1       1         1   \n",
      "1        0         0      0         0        0            0       0         0   \n",
      "2        0         0      0         0        0            0       0         0   \n",
      "3        0         0      0         0        1            0       0         0   \n",
      "4        0         0      0         0        0            0       0         0   \n",
      "...    ...       ...    ...       ...      ...          ...     ...       ...   \n",
      "9995     1         0      0         0        0            0       0         0   \n",
      "9996     0         0      0         0        0            0       0         0   \n",
      "9997     1         0      0         0        0            0       0         0   \n",
      "9998     0         0      0         0        0            0       0         0   \n",
      "9999     0         0      0         0        0            0       0         0   \n",
      "\n",
      "      participate  pas  ...  quixote  instrucotr  softie  promoted  \\\n",
      "0               1    1  ...        0           0       0         0   \n",
      "1               0    0  ...        0           0       0         0   \n",
      "2               0    0  ...        0           0       0         0   \n",
      "3               0    0  ...        0           0       0         0   \n",
      "4               0    0  ...        0           0       0         0   \n",
      "...           ...  ...  ...      ...         ...     ...       ...   \n",
      "9995            0    0  ...        0           0       0         0   \n",
      "9996            0    0  ...        0           0       0         0   \n",
      "9997            0    0  ...        0           0       0         0   \n",
      "9998            0    0  ...        0           0       0         0   \n",
      "9999            0    0  ...        0           0       0         0   \n",
      "\n",
      "      bordenlineestoteric  luis  lemos  trickster  borrowed  rewatch  \n",
      "0                       0     0      0          0         0        0  \n",
      "1                       0     0      0          0         0        0  \n",
      "2                       0     0      0          0         0        0  \n",
      "3                       0     0      0          0         0        0  \n",
      "4                       0     0      0          0         0        0  \n",
      "...                   ...   ...    ...        ...       ...      ...  \n",
      "9995                    0     0      0          0         0        0  \n",
      "9996                    0     0      0          0         0        0  \n",
      "9997                    0     0      0          0         0        0  \n",
      "9998                    0     0      0          0         0        0  \n",
      "9999                    0     0      0          0         0        0  \n",
      "\n",
      "[10000 rows x 11029 columns]\n",
      "Index(['hard', 'twoinone', 'gened', 'knockout', 'content', 'stimulating',\n",
      "       'unlike', 'actually', 'participate', 'pas',\n",
      "       ...\n",
      "       'quixote', 'instrucotr', 'softie', 'promoted', 'bordenlineestoteric',\n",
      "       'luis', 'lemos', 'trickster', 'borrowed', 'rewatch'],\n",
      "      dtype='object', length=11029)\n"
     ]
    }
   ],
   "source": [
    "data = pd.read_csv('bagOfWords.csv_1000')\n",
    "print(data)\n",
    "X = data.values\n",
    "print(data.columns)"
   ]
  },
  {
   "cell_type": "code",
   "execution_count": 43,
   "id": "927e8e61-5ed8-45ee-9998-1d81368986e6",
   "metadata": {
    "scrolled": true
   },
   "outputs": [
    {
     "name": "stdout",
     "output_type": "stream",
     "text": [
      "[[0.0271003  0.00427954 0.0015019  0.02733235 0.06863748]\n",
      " [0.01871047 0.00733748 0.02268759 0.02113161 0.07358645]\n",
      " [0.01629305 0.         0.0497529  0.02614877 0.00458157]\n",
      " ...\n",
      " [0.04871682 0.0871678  0.00013674 0.08731778 0.07139845]\n",
      " [0.03879975 0.02877551 0.01816265 0.03402191 0.        ]\n",
      " [0.01438429 0.00354968 0.         0.05478452 0.00695024]]\n"
     ]
    }
   ],
   "source": [
    "model = NMF(n_components=5, init='random', random_state=42, max_iter=500000)\n",
    "W = model.fit(X)\n",
    "H = model.components_\n",
    "DTM = model.fit_transform(X)\n",
    "print(DTM)"
   ]
  },
  {
   "cell_type": "code",
   "execution_count": 46,
   "id": "ff7af706-5644-4588-b697-faec7c993a22",
   "metadata": {
    "scrolled": true
   },
   "outputs": [
    {
     "name": "stdout",
     "output_type": "stream",
     "text": [
      "Index(['hard', 'twoinone', 'gened', 'knockout', 'content', 'stimulating',\n",
      "       'unlike', 'actually', 'participate', 'pas',\n",
      "       ...\n",
      "       'quixote', 'instrucotr', 'softie', 'promoted', 'bordenlineestoteric',\n",
      "       'luis', 'lemos', 'trickster', 'borrowed', 'rewatch'],\n",
      "      dtype='object', length=11029)\n"
     ]
    }
   ],
   "source": [
    "Feature_names = data.columns \n",
    "print(Feature_names)"
   ]
  },
  {
   "cell_type": "code",
   "execution_count": 47,
   "id": "6d741cef",
   "metadata": {
    "scrolled": true
   },
   "outputs": [
    {
     "data": {
      "text/plain": [
       "(5, 11029)"
      ]
     },
     "execution_count": 47,
     "metadata": {},
     "output_type": "execute_result"
    }
   ],
   "source": [
    "np.shape(DTM)\n",
    "np.shape(H)"
   ]
  },
  {
   "cell_type": "code",
   "execution_count": null,
   "id": "9760fd69",
   "metadata": {},
   "outputs": [],
   "source": []
  },
  {
   "cell_type": "code",
   "execution_count": 48,
   "id": "280cdf79",
   "metadata": {
    "scrolled": true
   },
   "outputs": [
    {
     "name": "stdout",
     "output_type": "stream",
     "text": [
      "[['hard', 'note', 'read', 'study', 'give', 'question', 'book', 'no', 'lecture', 'test'], ['time', 'another', 'learn', 'course', 'never', 'note', 'want', 'ever', 'would', 'take'], ['willing', 'interesting', 'ever', 'helpful', 'fun', 'always', 'best', 'help', 'make', 'great'], ['nice', 'time', 'like', 'know', 'hard', 'work', 'get', 'lot', 'good', 'really'], ['super', 'final', 'online', 'assignment', 'nice', 'quiz', 'paper', 'pretty', 'get', 'easy']]\n"
     ]
    },
    {
     "data": {
      "text/plain": [
       "(5, 10)"
      ]
     },
     "execution_count": 48,
     "metadata": {},
     "output_type": "execute_result"
    }
   ],
   "source": [
    "top_words_per_topic = []\n",
    "for topic in H:\n",
    "    top_words = [Feature_names[i] for i in topic.argsort()[-10:]]\n",
    "    top_words_per_topic.append(top_words)\n",
    "    \n",
    "print(top_words_per_topic)\n",
    "np.shape(top_words_per_topic)"
   ]
  },
  {
   "cell_type": "code",
   "execution_count": 49,
   "id": "0cef3da6",
   "metadata": {},
   "outputs": [
    {
     "name": "stdout",
     "output_type": "stream",
     "text": [
      "Topic 1['hard', 'note', 'read', 'study', 'give', 'question', 'book', 'no', 'lecture', 'test']\n",
      "Topic 2['time', 'another', 'learn', 'course', 'never', 'note', 'want', 'ever', 'would', 'take']\n",
      "Topic 3['willing', 'interesting', 'ever', 'helpful', 'fun', 'always', 'best', 'help', 'make', 'great']\n",
      "Topic 4['nice', 'time', 'like', 'know', 'hard', 'work', 'get', 'lot', 'good', 'really']\n",
      "Topic 5['super', 'final', 'online', 'assignment', 'nice', 'quiz', 'paper', 'pretty', 'get', 'easy']\n"
     ]
    }
   ],
   "source": [
    "for i, list1 in enumerate(top_words_per_topic):\n",
    "    print('Topic', i+1, end = \"\")\n",
    "    print(list1)"
   ]
  },
  {
   "cell_type": "code",
   "execution_count": 50,
   "id": "fbaf6707",
   "metadata": {},
   "outputs": [
    {
     "data": {
      "text/plain": [
       "()"
      ]
     },
     "execution_count": 50,
     "metadata": {},
     "output_type": "execute_result"
    }
   ],
   "source": [
    "topics_dict = {} #\n",
    "for doc_idx in range(len(DTM)):\n",
    "    topic_probs = DTM[doc_idx]\n",
    "    topic_idx = np.argmax(topic_probs)\n",
    "\n",
    "    if topic_idx not in topics_dict:\n",
    "        topics_dict[topic_idx] = []\n",
    "        \n",
    "    topics_dict[topic_idx].append(doc_idx)\n",
    "#print(topics_dict)\n",
    "np.shape(topics_dict)"
   ]
  },
  {
   "cell_type": "code",
   "execution_count": 51,
   "id": "6c7eef5a",
   "metadata": {},
   "outputs": [
    {
     "name": "stdout",
     "output_type": "stream",
     "text": [
      "      Comment  NMF-Label\n",
      "0           0          4\n",
      "1           1          4\n",
      "2           2          2\n",
      "3           3          3\n",
      "4           4          1\n",
      "...       ...        ...\n",
      "9995     9995          1\n",
      "9996     9996          0\n",
      "9997     9997          3\n",
      "9998     9998          0\n",
      "9999     9999          3\n",
      "\n",
      "[10000 rows x 2 columns]\n"
     ]
    }
   ],
   "source": [
    "final_data = []\n",
    "for key, values in topics_dict.items():\n",
    "    for value in values:\n",
    "        final_data.append((value, key))\n",
    "        \n",
    "nmf_labels = pd.DataFrame(final_data, columns=['Comment', 'NMF-Label'])\n",
    "nmf_labels.sort_values(by='Comment', inplace=True)\n",
    "nmf_labels.reset_index(drop=True, inplace=True)\n",
    "print(nmf_labels)"
   ]
  },
  {
   "cell_type": "code",
   "execution_count": 52,
   "id": "c37116d6",
   "metadata": {},
   "outputs": [],
   "source": [
    "# label_topics = ['Positivity and Excellence', 'Education and Assessment', 'Work and Enjoyment', 'Course and Effectiveness', 'Testing and Performance']\n",
    "label_topics = [\"Student Experience\", \"Learning Challenges\", \"Course Engagement\", \"Course Evaluation\", \"Assessments and Grades\"]"
   ]
  },
  {
   "cell_type": "code",
   "execution_count": 53,
   "id": "e2d7a40c",
   "metadata": {},
   "outputs": [],
   "source": [
    "topic_to_label = {\n",
    "    0: 'Student Experience',\n",
    "    1: 'Learning Challenges',\n",
    "    2: 'Course Engagement',\n",
    "    3: 'Course Evaluation',\n",
    "    4: 'Assessments and Grades'\n",
    "}"
   ]
  },
  {
   "cell_type": "code",
   "execution_count": 54,
   "id": "6f3fa6a6",
   "metadata": {},
   "outputs": [],
   "source": [
    "# Define a new document as a list of lists of words representing multiple topics\n",
    "new_document = [\n",
    "    ['hard', 'note', 'read', 'study', 'give', 'question', 'book', 'no', 'lecture', 'test'],\n",
    "    ['time', 'another', 'learn', 'course', 'never', 'note', 'want', 'ever', 'would', 'take'],\n",
    "    ['willing', 'interesting', 'ever', 'helpful', 'fun', 'always', 'best', 'help', 'make', 'great'], \n",
    "    ['nice', 'time', 'like', 'know', 'hard', 'work', 'get', 'lot', 'good', 'really'], \n",
    "    ['super', 'final', 'online', 'assignment', 'nice', 'quiz', 'paper', 'pretty', 'get', 'easy'],\n",
    "    \n",
    "]\n"
   ]
  },
  {
   "cell_type": "code",
   "execution_count": 55,
   "id": "8c966e09",
   "metadata": {},
   "outputs": [
    {
     "name": "stdout",
     "output_type": "stream",
     "text": [
      "Inner List 1: Most relevant topic: 0, Assigned label: Student Experience\n",
      "Inner List 2: Most relevant topic: 1, Assigned label: Learning Challenges\n",
      "Inner List 3: Most relevant topic: 2, Assigned label: Course Engagement\n",
      "Inner List 4: Most relevant topic: 3, Assigned label: Course Evaluation\n",
      "Inner List 5: Most relevant topic: 4, Assigned label: Assessments and Grades\n"
     ]
    }
   ],
   "source": [
    "# Preprocess the new document text (replace with your preprocessing steps)\n",
    "new_document_text = [' '.join(topic_words) for topic_words in new_document]\n",
    "#print(new_document_text)\n",
    "\n",
    "# Load your previously trained CountVectorizer (replace with your vectorizer)\n",
    "vectorizer = CountVectorizer(vocabulary=Feature_names)  # Use your actual vocabulary\n",
    "#print(vectorizer)\n",
    "# Transform the new document text to a document-term matrix using the vectorizer\n",
    "new_document_matrix = vectorizer.transform(new_document_text)\n",
    "# print(new_document_matrix)\n",
    "# Infer the topic distribution for the new document using the LDA model\n",
    "new_document_topics = model.transform(new_document_matrix)\n",
    "\n",
    "# Find the most relevant topic for each inner list\n",
    "most_relevant_topics = np.argmax(new_document_topics, axis=1)\n",
    "\n",
    "# Print the most relevant topics and corresponding labels for each inner list\n",
    "for idx, topic_id in enumerate(most_relevant_topics):\n",
    "    assigned_label = topic_to_label[topic_id]\n",
    "    print(f\"Inner List {idx + 1}: Most relevant topic: {topic_id}, Assigned label: {assigned_label}\")"
   ]
  },
  {
   "cell_type": "code",
   "execution_count": 33,
   "id": "5a031a01",
   "metadata": {},
   "outputs": [
    {
     "data": {
      "image/png": "[encoded data removed]",
      "text/plain": [
       "<Figure size 432x288 with 1 Axes>"
      ]
     },
     "metadata": {},
     "output_type": "display_data"
    }
   ],
   "source": [
    "label_counts = nmf_labels['NMF-Label'].value_counts().sort_index()\n",
    "# labels = ['Label 0', 'Label 1', 'Label 2', 'Label 3', 'Label 4']\n",
    "labels = [\"Student Experience\", \"Learning Challenges\", \"Course Engagement\", \"Course Evaluation\", \"Assessments and Grades\"]\n",
    "# colors = ['#2ECC71', '#F1C40F', '#95A5A6', '#9B59B6', '#FF5733']\n",
    "colors = ['#1F77B4', '#FF7F0E', '#2CA02C', '#D62728', '#9467BD']\n",
    "# labels_with_counts = [f'{label_name} ({count})' for label_name, (labels, count) in zip(labels, label_counts.items())]\n",
    "labels_with_counts = [f'{label_name}' for label_name, (labels, count) in zip(labels, label_counts.items())]\n",
    "    \n",
    "# plt.figure(figsize=(8, 8))  # Set the figure size\n",
    "\n",
    "plt.pie(label_counts, labels=labels_with_counts, colors=colors, autopct='%1.1f%%', startangle=140)\n",
    "plt.axis('equal')  # Equal aspect ratio ensures that the pie is drawn as a circle.\n",
    "plt.title('Student Feedback')\n",
    "plt.savefig(\"pie_chart.png\")\n",
    "plt.show()\n"
   ]
  },
  {
   "cell_type": "code",
   "execution_count": null,
   "id": "b58c4e9d",
   "metadata": {},
   "outputs": [],
   "source": []
  },
  {
   "cell_type": "code",
   "execution_count": null,
   "id": "f7dfe8f3",
   "metadata": {},
   "outputs": [],
   "source": []
  }
 ],
 "metadata": {
  "kernelspec": {
   "display_name": "Python 3",
   "language": "python",
   "name": "python3"
  },
  "language_info": {
   "codemirror_mode": {
    "name": "ipython",
    "version": 3
   },
   "file_extension": ".py",
   "mimetype": "text/x-python",
   "name": "python",
   "nbconvert_exporter": "python",
   "pygments_lexer": "ipython3",
   "version": "3.8.8"
  }
 },
 "nbformat": 4,
 "nbformat_minor": 5
}
