{
 "cells": [
  {
   "cell_type": "code",
   "execution_count": 1,
   "id": "d1b71e29",
   "metadata": {},
   "outputs": [],
   "source": [
    "import pandas as pd\n",
    "import numpy as np\n",
    "from sklearn.cluster import KMeans\n",
    "from sklearn.metrics import silhouette_score\n",
    "from sklearn.decomposition import PCA\n",
    "import matplotlib.pyplot as plt"
   ]
  },
  {
   "cell_type": "code",
   "execution_count": 2,
   "id": "996de474",
   "metadata": {},
   "outputs": [],
   "source": [
    "data = pd.read_csv('bagOfWordsdunn.csv')\n",
    "pca = PCA(2)\n",
    "df = pca.fit_transform(data)"
   ]
  },
  {
   "cell_type": "code",
   "execution_count": 3,
   "id": "ec0bd633",
   "metadata": {},
   "outputs": [],
   "source": [
    "k = 5\n",
    "kmeans = KMeans(n_clusters=k, n_init=10, random_state=42)\n",
    "labels = kmeans.fit_predict(df)\n",
    "centroids = kmeans.cluster_centers_"
   ]
  },
  {
   "cell_type": "code",
   "execution_count": 4,
   "id": "50d8df50",
   "metadata": {},
   "outputs": [
    {
     "name": "stdout",
     "output_type": "stream",
     "text": [
      "Dunn Index: 0.3270904161703382\n"
     ]
    }
   ],
   "source": [
    "def euclidean_distance(point1, point2):\n",
    "    return np.linalg.norm(point1 - point2)\n",
    "\n",
    "def calc_dunn_index(data, labels, centroids):\n",
    "    unique_clusters = np.unique(labels)\n",
    "    inter_cluster_distances = []\n",
    "    intra_cluster_distances = []\n",
    "\n",
    "    for i in range(len(unique_clusters)):\n",
    "        for j in range(i + 1, len(unique_clusters)):\n",
    "            dist = euclidean_distance(centroids[i], centroids[j])\n",
    "            inter_cluster_distances.append(dist)\n",
    "\n",
    "    for cluster in unique_clusters:\n",
    "        cluster_points = data[labels == cluster]\n",
    "        if len(cluster_points) > 1:\n",
    "            for i in range(len(cluster_points)):\n",
    "                for j in range(i + 1, len(cluster_points)):\n",
    "                    dist = euclidean_distance(cluster_points[i], cluster_points[j])\n",
    "                    intra_cluster_distances.append(dist)\n",
    "\n",
    "    min_inter_cluster_distance = min(inter_cluster_distances)\n",
    "    max_intra_cluster_distance = max(intra_cluster_distances)\n",
    "\n",
    "    dunn_index = min_inter_cluster_distance / max_intra_cluster_distance\n",
    "    return dunn_index\n",
    "\n",
    "dunn_index = calc_dunn_index(df, labels, centroids)\n",
    "print(f\"Dunn Index: {dunn_index}\")\n",
    "\n"
   ]
  },
  {
   "cell_type": "code",
   "execution_count": null,
   "id": "b16a1e35",
   "metadata": {},
   "outputs": [],
   "source": []
  }
 ],
 "metadata": {
  "kernelspec": {
   "display_name": "Python 3",
   "language": "python",
   "name": "python3"
  },
  "language_info": {
   "codemirror_mode": {
    "name": "ipython",
    "version": 3
   },
   "file_extension": ".py",
   "mimetype": "text/x-python",
   "name": "python",
   "nbconvert_exporter": "python",
   "pygments_lexer": "ipython3",
   "version": "3.8.8"
  }
 },
 "nbformat": 4,
 "nbformat_minor": 5
}
